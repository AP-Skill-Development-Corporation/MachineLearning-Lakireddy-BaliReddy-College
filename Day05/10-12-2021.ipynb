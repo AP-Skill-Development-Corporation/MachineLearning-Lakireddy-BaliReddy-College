{
 "cells": [
  {
   "cell_type": "markdown",
   "metadata": {},
   "source": [
    "### Day Objective\n",
    "- Visualization\n",
    "    1. Matplotlib\n",
    "    2. Seaborn"
   ]
  },
  {
   "cell_type": "markdown",
   "metadata": {},
   "source": [
    "### Matplotlib\n",
    "- Matplotlib is a 2D plotting library\n",
    "- It is used to create high quality graphs, figures, plots, etc.."
   ]
  },
  {
   "cell_type": "code",
   "execution_count": 1,
   "metadata": {},
   "outputs": [],
   "source": [
    "import matplotlib as mpl"
   ]
  },
  {
   "cell_type": "code",
   "execution_count": 2,
   "metadata": {
    "collapsed": true
   },
   "outputs": [
    {
     "name": "stdout",
     "output_type": "stream",
     "text": [
      "['LooseVersion', 'MatplotlibDeprecationWarning', 'MutableMapping', 'Parameter', 'Path', 'RcParams', 'URL_REGEX', '_DATA_DOC_APPENDIX', '_DATA_DOC_TITLE', '_ExecInfo', '__bibtex__', '__builtins__', '__cached__', '__doc__', '__file__', '__loader__', '__name__', '__package__', '__path__', '__spec__', '__version__', '_add_data_doc', '_all_deprecated', '_check_versions', '_color_data', '_create_tmp_config_or_cache_dir', '_deprecated_ignore_map', '_deprecated_map', '_deprecated_remain_as_none', '_ensure_handler', '_error_details_fmt', '_get_config_or_cache_dir', '_get_data_path', '_get_executable_info', '_get_xdg_cache_dir', '_get_xdg_config_dir', '_init_tests', '_label_from_arg', '_log', '_logged_cached', '_open_file_or_url', '_preprocess_data', '_rc_params_in_file', '_replacer', '_version', 'atexit', 'cbook', 'checkdep_dvipng', 'checkdep_ghostscript', 'checkdep_inkscape', 'checkdep_pdftops', 'checkdep_ps_distiller', 'checkdep_usetex', 'colors', 'compare_versions', 'contextlib', 'cycler', 'dedent', 'defaultParams', 'default_test_modules', 'fontconfig_pattern', 'functools', 'get_backend', 'get_cachedir', 'get_configdir', 'get_data_path', 'get_home', 'get_label', 'get_py2exe_datafiles', 'importlib', 'inspect', 'interactive', 'is_interactive', 'is_url', 'locale', 'logging', 'matplotlib_fname', 'mplDeprecation', 'namedtuple', 'numpy', 'os', 'pprint', 'rc', 'rcParams', 'rcParamsDefault', 'rcParamsOrig', 'rc_context', 'rc_file', 'rc_file_defaults', 'rc_params', 'rc_params_from_file', 'rcdefaults', 'rcsetup', 're', 'sanitize_sequence', 'set_loglevel', 'shutil', 'subprocess', 'sys', 'tempfile', 'test', 'tk_window_focus', 'use', 'validate_backend']\n"
     ]
    }
   ],
   "source": [
    "print(dir(mpl))"
   ]
  },
  {
   "cell_type": "markdown",
   "metadata": {},
   "source": [
    "#### Pyplot\n",
    "- Pyplot is one of the module of matplotlib\n",
    "- Pyplot contains collection of methods which very simple user interface for constructing graphs."
   ]
  },
  {
   "cell_type": "code",
   "execution_count": 3,
   "metadata": {},
   "outputs": [],
   "source": [
    "import matplotlib.pyplot as plt"
   ]
  },
  {
   "cell_type": "markdown",
   "metadata": {},
   "source": [
    "**Types of Ploting**\n",
    "- Line Plot\n",
    "- Bar Chart\n",
    "- Scatter plot\n",
    "- Histogram\n",
    "- Pie Chart\n",
    "- And many more..."
   ]
  },
  {
   "cell_type": "markdown",
   "metadata": {},
   "source": [
    "**1. Line Plot**\n",
    "- plt.plot()"
   ]
  },
  {
   "cell_type": "code",
   "execution_count": 4,
   "metadata": {
    "collapsed": true
   },
   "outputs": [
    {
     "data": {
      "text/plain": [
       "[<matplotlib.lines.Line2D at 0x26b65fbe7f0>]"
      ]
     },
     "execution_count": 4,
     "metadata": {},
     "output_type": "execute_result"
    },
    {
     "data": {
      "image/png": "[encoded data removed]",
      "text/plain": [
       "<Figure size 432x288 with 1 Axes>"
      ]
     },
     "metadata": {
      "needs_background": "light"
     },
     "output_type": "display_data"
    }
   ],
   "source": [
    "x_axis = [1,2,3,4]\n",
    "y_axis = [12,15,17,19]\n",
    "plt.plot(x_axis, y_axis)"
   ]
  },
  {
   "cell_type": "markdown",
   "metadata": {},
   "source": [
    "- Give some detais to graph"
   ]
  },
  {
   "cell_type": "code",
   "execution_count": 7,
   "metadata": {
    "collapsed": true
   },
   "outputs": [
    {
     "data": {
      "image/png": "[encoded data removed]",
      "text/plain": [
       "<Figure size 432x288 with 1 Axes>"
      ]
     },
     "metadata": {
      "needs_background": "light"
     },
     "output_type": "display_data"
    }
   ],
   "source": [
    "x_axis = [1,2,3,4]\n",
    "y_axis = [12,15,17,19]\n",
    "plt.plot(x_axis, y_axis, label = 'Line')\n",
    "plt.title('Line Plot')\n",
    "plt.xlabel('X Scale')\n",
    "plt.ylabel('Y Scale')\n",
    "plt.legend()\n",
    "plt.show()"
   ]
  },
  {
   "cell_type": "code",
   "execution_count": 8,
   "metadata": {
    "scrolled": true
   },
   "outputs": [
    {
     "name": "stdout",
     "output_type": "stream",
     "text": [
      "Help on function plot in module matplotlib.pyplot:\n",
      "\n",
      "plot(*args, scalex=True, scaley=True, data=None, **kwargs)\n",
      "    Plot y versus x as lines and/or markers.\n",
      "    \n",
      "    Call signatures::\n",
      "    \n",
      "        plot([x], y, [fmt], *, data=None, **kwargs)\n",
      "        plot([x], y, [fmt], [x2], y2, [fmt2], ..., **kwargs)\n",
      "    \n",
      "    The coordinates of the points or line nodes are given by *x*, *y*.\n",
      "    \n",
      "    The optional parameter *fmt* is a convenient way for defining basic\n",
      "    formatting like color, marker and linestyle. It's a shortcut string\n",
      "    notation described in the *Notes* section below.\n",
      "    \n",
      "    >>> plot(x, y)        # plot x and y using default line style and color\n",
      "    >>> plot(x, y, 'bo')  # plot x and y using blue circle markers\n",
      "    >>> plot(y)           # plot y using x as index array 0..N-1\n",
      "    >>> plot(y, 'r+')     # ditto, but with red plusses\n",
      "    \n",
      "    You can use `.Line2D` properties as keyword arguments for more\n",
      "    control on the appearance. Line properties and *fmt* can be mixed.\n",
      "    The following two calls yield identical results:\n",
      "    \n",
      "    >>> plot(x, y, 'go--', linewidth=2, markersize=12)\n",
      "    >>> plot(x, y, color='green', marker='o', linestyle='dashed',\n",
      "    ...      linewidth=2, markersize=12)\n",
      "    \n",
      "    When conflicting with *fmt*, keyword arguments take precedence.\n",
      "    \n",
      "    \n",
      "    **Plotting labelled data**\n",
      "    \n",
      "    There's a convenient way for plotting objects with labelled data (i.e.\n",
      "    data that can be accessed by index ``obj['y']``). Instead of giving\n",
      "    the data in *x* and *y*, you can provide the object in the *data*\n",
      "    parameter and just give the labels for *x* and *y*::\n",
      "    \n",
      "    >>> plot('xlabel', 'ylabel', data=obj)\n",
      "    \n",
      "    All indexable objects are supported. This could e.g. be a `dict`, a\n",
      "    `pandas.DataFame` or a structured numpy array.\n",
      "    \n",
      "    \n",
      "    **Plotting multiple sets of data**\n",
      "    \n",
      "    There are various ways to plot multiple sets of data.\n",
      "    \n",
      "    - The most straight forward way is just to call `plot` multiple times.\n",
      "      Example:\n",
      "    \n",
      "      >>> plot(x1, y1, 'bo')\n",
      "      >>> plot(x2, y2, 'go')\n",
      "    \n",
      "    - Alternatively, if your data is already a 2d array, you can pass it\n",
      "      directly to *x*, *y*. A separate data set will be drawn for every\n",
      "      column.\n",
      "    \n",
      "      Example: an array ``a`` where the first column represents the *x*\n",
      "      values and the other columns are the *y* columns::\n",
      "    \n",
      "      >>> plot(a[0], a[1:])\n",
      "    \n",
      "    - The third way is to specify multiple sets of *[x]*, *y*, *[fmt]*\n",
      "      groups::\n",
      "    \n",
      "      >>> plot(x1, y1, 'g^', x2, y2, 'g-')\n",
      "    \n",
      "      In this case, any additional keyword argument applies to all\n",
      "      datasets. Also this syntax cannot be combined with the *data*\n",
      "      parameter.\n",
      "    \n",
      "    By default, each line is assigned a different style specified by a\n",
      "    'style cycle'. The *fmt* and line property parameters are only\n",
      "    necessary if you want explicit deviations from these defaults.\n",
      "    Alternatively, you can also change the style cycle using the\n",
      "    'axes.prop_cycle' rcParam.\n",
      "    \n",
      "    \n",
      "    Parameters\n",
      "    ----------\n",
      "    x, y : array-like or scalar\n",
      "        The horizontal / vertical coordinates of the data points.\n",
      "        *x* values are optional and default to `range(len(y))`.\n",
      "    \n",
      "        Commonly, these parameters are 1D arrays.\n",
      "    \n",
      "        They can also be scalars, or two-dimensional (in that case, the\n",
      "        columns represent separate data sets).\n",
      "    \n",
      "        These arguments cannot be passed as keywords.\n",
      "    \n",
      "    fmt : str, optional\n",
      "        A format string, e.g. 'ro' for red circles. See the *Notes*\n",
      "        section for a full description of the format strings.\n",
      "    \n",
      "        Format strings are just an abbreviation for quickly setting\n",
      "        basic line properties. All of these and more can also be\n",
      "        controlled by keyword arguments.\n",
      "    \n",
      "        This argument cannot be passed as keyword.\n",
      "    \n",
      "    data : indexable object, optional\n",
      "        An object with labelled data. If given, provide the label names to\n",
      "        plot in *x* and *y*.\n",
      "    \n",
      "        .. note::\n",
      "            Technically there's a slight ambiguity in calls where the\n",
      "            second label is a valid *fmt*. `plot('n', 'o', data=obj)`\n",
      "            could be `plt(x, y)` or `plt(y, fmt)`. In such cases,\n",
      "            the former interpretation is chosen, but a warning is issued.\n",
      "            You may suppress the warning by adding an empty format string\n",
      "            `plot('n', 'o', '', data=obj)`.\n",
      "    \n",
      "    Other Parameters\n",
      "    ----------------\n",
      "    scalex, scaley : bool, optional, default: True\n",
      "        These parameters determined if the view limits are adapted to\n",
      "        the data limits. The values are passed on to `autoscale_view`.\n",
      "    \n",
      "    **kwargs : `.Line2D` properties, optional\n",
      "        *kwargs* are used to specify properties like a line label (for\n",
      "        auto legends), linewidth, antialiasing, marker face color.\n",
      "        Example::\n",
      "    \n",
      "        >>> plot([1,2,3], [1,2,3], 'go-', label='line 1', linewidth=2)\n",
      "        >>> plot([1,2,3], [1,4,9], 'rs',  label='line 2')\n",
      "    \n",
      "        If you make multiple lines with one plot command, the kwargs\n",
      "        apply to all those lines.\n",
      "    \n",
      "        Here is a list of available `.Line2D` properties:\n",
      "    \n",
      "      agg_filter: a filter function, which takes a (m, n, 3) float array and a dpi value, and returns a (m, n, 3) array\n",
      "      alpha: float\n",
      "      animated: bool\n",
      "      antialiased or aa: bool\n",
      "      clip_box: `.Bbox`\n",
      "      clip_on: bool\n",
      "      clip_path: [(`~matplotlib.path.Path`, `.Transform`) | `.Patch` | None]\n",
      "      color or c: color\n",
      "      contains: callable\n",
      "      dash_capstyle: {'butt', 'round', 'projecting'}\n",
      "      dash_joinstyle: {'miter', 'round', 'bevel'}\n",
      "      dashes: sequence of floats (on/off ink in points) or (None, None)\n",
      "      drawstyle or ds: {'default', 'steps', 'steps-pre', 'steps-mid', 'steps-post'}, default: 'default'\n",
      "      figure: `.Figure`\n",
      "      fillstyle: {'full', 'left', 'right', 'bottom', 'top', 'none'}\n",
      "      gid: str\n",
      "      in_layout: bool\n",
      "      label: object\n",
      "      linestyle or ls: {'-', '--', '-.', ':', '', (offset, on-off-seq), ...}\n",
      "      linewidth or lw: float\n",
      "      marker: marker style\n",
      "      markeredgecolor or mec: color\n",
      "      markeredgewidth or mew: float\n",
      "      markerfacecolor or mfc: color\n",
      "      markerfacecoloralt or mfcalt: color\n",
      "      markersize or ms: float\n",
      "      markevery: None or int or (int, int) or slice or List[int] or float or (float, float)\n",
      "      path_effects: `.AbstractPathEffect`\n",
      "      picker: float or callable[[Artist, Event], Tuple[bool, dict]]\n",
      "      pickradius: float\n",
      "      rasterized: bool or None\n",
      "      sketch_params: (scale: float, length: float, randomness: float)\n",
      "      snap: bool or None\n",
      "      solid_capstyle: {'butt', 'round', 'projecting'}\n",
      "      solid_joinstyle: {'miter', 'round', 'bevel'}\n",
      "      transform: `matplotlib.transforms.Transform`\n",
      "      url: str\n",
      "      visible: bool\n",
      "      xdata: 1D array\n",
      "      ydata: 1D array\n",
      "      zorder: float\n",
      "    \n",
      "    Returns\n",
      "    -------\n",
      "    lines\n",
      "        A list of `.Line2D` objects representing the plotted data.\n",
      "    \n",
      "    See Also\n",
      "    --------\n",
      "    scatter : XY scatter plot with markers of varying size and/or color (\n",
      "        sometimes also called bubble chart).\n",
      "    \n",
      "    Notes\n",
      "    -----\n",
      "    **Format Strings**\n",
      "    \n",
      "    A format string consists of a part for color, marker and line::\n",
      "    \n",
      "        fmt = '[marker][line][color]'\n",
      "    \n",
      "    Each of them is optional. If not provided, the value from the style\n",
      "    cycle is used. Exception: If ``line`` is given, but no ``marker``,\n",
      "    the data will be a line without markers.\n",
      "    \n",
      "    Other combinations such as ``[color][marker][line]`` are also\n",
      "    supported, but note that their parsing may be ambiguous.\n",
      "    \n",
      "    **Markers**\n",
      "    \n",
      "    =============    ===============================\n",
      "    character        description\n",
      "    =============    ===============================\n",
      "    ``'.'``          point marker\n",
      "    ``','``          pixel marker\n",
      "    ``'o'``          circle marker\n",
      "    ``'v'``          triangle_down marker\n",
      "    ``'^'``          triangle_up marker\n",
      "    ``'<'``          triangle_left marker\n",
      "    ``'>'``          triangle_right marker\n",
      "    ``'1'``          tri_down marker\n",
      "    ``'2'``          tri_up marker\n",
      "    ``'3'``          tri_left marker\n",
      "    ``'4'``          tri_right marker\n",
      "    ``'s'``          square marker\n",
      "    ``'p'``          pentagon marker\n",
      "    ``'*'``          star marker\n",
      "    ``'h'``          hexagon1 marker\n",
      "    ``'H'``          hexagon2 marker\n",
      "    ``'+'``          plus marker\n",
      "    ``'x'``          x marker\n",
      "    ``'D'``          diamond marker\n",
      "    ``'d'``          thin_diamond marker\n",
      "    ``'|'``          vline marker\n",
      "    ``'_'``          hline marker\n",
      "    =============    ===============================\n",
      "    \n",
      "    **Line Styles**\n",
      "    \n",
      "    =============    ===============================\n",
      "    character        description\n",
      "    =============    ===============================\n",
      "    ``'-'``          solid line style\n",
      "    ``'--'``         dashed line style\n",
      "    ``'-.'``         dash-dot line style\n",
      "    ``':'``          dotted line style\n",
      "    =============    ===============================\n",
      "    \n",
      "    Example format strings::\n",
      "    \n",
      "        'b'    # blue markers with default shape\n",
      "        'or'   # red circles\n",
      "        '-g'   # green solid line\n",
      "        '--'   # dashed line with default color\n",
      "        '^k:'  # black triangle_up markers connected by a dotted line\n",
      "    \n",
      "    **Colors**\n",
      "    \n",
      "    The supported color abbreviations are the single letter codes\n",
      "    \n",
      "    =============    ===============================\n",
      "    character        color\n",
      "    =============    ===============================\n",
      "    ``'b'``          blue\n",
      "    ``'g'``          green\n",
      "    ``'r'``          red\n",
      "    ``'c'``          cyan\n",
      "    ``'m'``          magenta\n",
      "    ``'y'``          yellow\n",
      "    ``'k'``          black\n",
      "    ``'w'``          white\n",
      "    =============    ===============================\n",
      "    \n",
      "    and the ``'CN'`` colors that index into the default property cycle.\n",
      "    \n",
      "    If the color is the only part of the format string, you can\n",
      "    additionally use any  `matplotlib.colors` spec, e.g. full names\n",
      "    (``'green'``) or hex strings (``'#008000'``).\n",
      "\n"
     ]
    }
   ],
   "source": [
    "help(plt.plot)"
   ]
  },
  {
   "cell_type": "code",
   "execution_count": 9,
   "metadata": {},
   "outputs": [],
   "source": [
    "import numpy as np"
   ]
  },
  {
   "cell_type": "code",
   "execution_count": 21,
   "metadata": {
    "collapsed": true
   },
   "outputs": [
    {
     "data": {
      "text/plain": [
       "array([10.        , 10.40816327, 10.81632653, 11.2244898 , 11.63265306,\n",
       "       12.04081633, 12.44897959, 12.85714286, 13.26530612, 13.67346939,\n",
       "       14.08163265, 14.48979592, 14.89795918, 15.30612245, 15.71428571,\n",
       "       16.12244898, 16.53061224, 16.93877551, 17.34693878, 17.75510204,\n",
       "       18.16326531, 18.57142857, 18.97959184, 19.3877551 , 19.79591837,\n",
       "       20.20408163, 20.6122449 , 21.02040816, 21.42857143, 21.83673469,\n",
       "       22.24489796, 22.65306122, 23.06122449, 23.46938776, 23.87755102,\n",
       "       24.28571429, 24.69387755, 25.10204082, 25.51020408, 25.91836735,\n",
       "       26.32653061, 26.73469388, 27.14285714, 27.55102041, 27.95918367,\n",
       "       28.36734694, 28.7755102 , 29.18367347, 29.59183673, 30.        ])"
      ]
     },
     "execution_count": 21,
     "metadata": {},
     "output_type": "execute_result"
    }
   ],
   "source": [
    "x1 = np.linspace(10,30,50)\n",
    "x1"
   ]
  },
  {
   "cell_type": "code",
   "execution_count": 16,
   "metadata": {
    "collapsed": true
   },
   "outputs": [
    {
     "data": {
      "text/plain": [
       "<matplotlib.legend.Legend at 0x26b6615c240>"
      ]
     },
     "execution_count": 16,
     "metadata": {},
     "output_type": "execute_result"
    },
    {
     "data": {
      "image/png": "[encoded data removed]",
      "text/plain": [
       "<Figure size 432x288 with 1 Axes>"
      ]
     },
     "metadata": {
      "needs_background": "light"
     },
     "output_type": "display_data"
    }
   ],
   "source": [
    "plt.plot(x1, x1**2, color = 'r', linestyle = '-.', label = 'Square')\n",
    "plt.plot(x1, x1**3, color = 'b', linestyle = ':', label = 'Cube')\n",
    "plt.legend()"
   ]
  },
  {
   "cell_type": "code",
   "execution_count": 22,
   "metadata": {
    "collapsed": true
   },
   "outputs": [
    {
     "data": {
      "text/plain": [
       "[<matplotlib.lines.Line2D at 0x26b669614e0>]"
      ]
     },
     "execution_count": 22,
     "metadata": {},
     "output_type": "execute_result"
    },
    {
     "data": {
      "image/png": "[encoded data removed]",
      "text/plain": [
       "<Figure size 432x288 with 1 Axes>"
      ]
     },
     "metadata": {
      "needs_background": "light"
     },
     "output_type": "display_data"
    }
   ],
   "source": [
    "plt.plot(x1, np.sin(x1), color = 'g', marker = 'o', \n",
    "         markersize = 10, markerfacecolor = 'w')\n",
    "plt.plot(x1, np.cos(x1), color = 'm', marker = 'd', \n",
    "         markersize = 10, markerfacecolor = 'gray')"
   ]
  },
  {
   "cell_type": "markdown",
   "metadata": {},
   "source": [
    "**Scatter plot**\n",
    "- plt.scatter()"
   ]
  },
  {
   "cell_type": "code",
   "execution_count": 23,
   "metadata": {
    "collapsed": true
   },
   "outputs": [
    {
     "data": {
      "text/plain": [
       "<matplotlib.collections.PathCollection at 0x26b669dad30>"
      ]
     },
     "execution_count": 23,
     "metadata": {},
     "output_type": "execute_result"
    },
    {
     "data": {
      "image/png": "[encoded data removed]",
      "text/plain": [
       "<Figure size 432x288 with 1 Axes>"
      ]
     },
     "metadata": {
      "needs_background": "light"
     },
     "output_type": "display_data"
    }
   ],
   "source": [
    "plt.scatter([1, 3], [5, 6])"
   ]
  },
  {
   "cell_type": "code",
   "execution_count": 26,
   "metadata": {
    "collapsed": true
   },
   "outputs": [
    {
     "data": {
      "text/plain": [
       "<matplotlib.collections.PathCollection at 0x26b67a784a8>"
      ]
     },
     "execution_count": 26,
     "metadata": {},
     "output_type": "execute_result"
    },
    {
     "data": {
      "image/png": "[encoded data removed]",
      "text/plain": [
       "<Figure size 432x288 with 1 Axes>"
      ]
     },
     "metadata": {
      "needs_background": "light"
     },
     "output_type": "display_data"
    }
   ],
   "source": [
    "x2 = np.linspace(0,10, 40)\n",
    "y2 = np.sin(x2)\n",
    "plt.scatter(x2, y2, color = 'green', marker = 'v')"
   ]
  },
  {
   "cell_type": "markdown",
   "metadata": {},
   "source": [
    "**Bar plot**\n",
    "- plt.bar()"
   ]
  },
  {
   "cell_type": "code",
   "execution_count": 31,
   "metadata": {
    "collapsed": true
   },
   "outputs": [
    {
     "data": {
      "text/plain": [
       "<BarContainer object of 5 artists>"
      ]
     },
     "execution_count": 31,
     "metadata": {},
     "output_type": "execute_result"
    },
    {
     "data": {
      "image/png": "[encoded data removed]",
      "text/plain": [
       "<Figure size 432x288 with 1 Axes>"
      ]
     },
     "metadata": {
      "needs_background": "light"
     },
     "output_type": "display_data"
    }
   ],
   "source": [
    "year = ['2019 Nov', '2019 Dec', '2020 Aug', '2021 Jan', '2021 Aug']\n",
    "price = [1000, 2500, 4700, 5000, 4900]\n",
    "plt.bar(year, price, color = 'm')"
   ]
  },
  {
   "cell_type": "code",
   "execution_count": 32,
   "metadata": {
    "collapsed": true
   },
   "outputs": [
    {
     "data": {
      "text/plain": [
       "<BarContainer object of 5 artists>"
      ]
     },
     "execution_count": 32,
     "metadata": {},
     "output_type": "execute_result"
    },
    {
     "data": {
      "image/png": "[encoded data removed]",
      "text/plain": [
       "<Figure size 432x288 with 1 Axes>"
      ]
     },
     "metadata": {
      "needs_background": "light"
     },
     "output_type": "display_data"
    }
   ],
   "source": [
    "year = ['2019 Nov', '2019 Dec', '2020 Aug', '2021 Jan', '2021 Aug']\n",
    "price = [1000, 2500, 4700, 5000, 4900]\n",
    "plt.bar(year, price, color = ['gray','r','green','pink','m'])"
   ]
  },
  {
   "cell_type": "markdown",
   "metadata": {},
   "source": [
    "**Boxplot**\n",
    "- It gives summary of numerical data\n",
    "    - min\n",
    "    - IQR (Inter Quartile Range)\n",
    "        - 25%\n",
    "        - 50%\n",
    "        - 75%\n",
    "    - max"
   ]
  },
  {
   "cell_type": "code",
   "execution_count": 34,
   "metadata": {
    "collapsed": true
   },
   "outputs": [
    {
     "data": {
      "text/plain": [
       "array([13658, 16029, 16872,  5698,  3756,  5771,  3858, 12830, 22943,\n",
       "       17261, 12118,  4309,  8875, 19994,  6550, 21010, 11857, 21629,\n",
       "       11118,  9890, 10118,  6586, 16816, 17015,  6661, 19394, 18948,\n",
       "        8626, 10640, 24593,  4675, 13587,  4284, 19870, 12862,  9308,\n",
       "       18359,  9119,  9364, 21201, 17414,  2584, 19829,  5460,  2714,\n",
       "       22087, 21281, 10628, 22654,  3668,  6879,  5151, 15249,  7524,\n",
       "       15726, 13123,  2826, 12244, 15999, 16267, 18959,  9683, 12091,\n",
       "       22586,  7986,  4766,  6655, 22441, 15770,  6341, 10782, 18514,\n",
       "       20823, 24495,  7423,  5526, 19035,  5295,  6012, 19756, 24362,\n",
       "       23020, 20408,  8220,  9601, 15226, 16231, 21026,  7460,  9163,\n",
       "       15039, 24932, 18986, 14361, 24007, 14760, 19542, 22882,  6983,\n",
       "        6756, 22019, 19971, 21484,  9281, 12553, 24666, 24358, 17584,\n",
       "        5601, 13026, 24201, 20648, 19804, 17508,  7958,  2858,  5837,\n",
       "       18842,  4470, 23825, 10817,  9362, 11115, 23039, 15755, 13914,\n",
       "       14440,  4731, 17668,  5970, 10215, 24941,  9713, 13002,  4564,\n",
       "       11433, 16781, 10841,  5382,  7336,  6554, 14103, 19302, 15912,\n",
       "       13361,  8295,  4147, 22132, 16871, 22471, 18471,  3759, 23552,\n",
       "       11752,  9913, 17356, 19951, 18482,  7381, 16450, 18249, 17631,\n",
       "       14045, 15624, 16476,  7670, 14195, 15727, 10871, 22244,  4773,\n",
       "       17355, 10973, 15646, 22055, 19908, 24261,  4474, 20551,  4660,\n",
       "       20673,  5627, 14278, 16499, 10334,  8648, 17026,  3617, 22185,\n",
       "       12995, 14814, 20725,  7940,  9892, 19577, 18853, 15112, 12022,\n",
       "        2672,  9976, 24230,  9054, 16125,  6352, 20035, 10719, 18493,\n",
       "        4273, 23362,  5591,  6229, 11390, 12261, 21526, 17949, 24777,\n",
       "       22809, 22552, 13380,  2727, 13627,  5641, 18557, 12794,  5002,\n",
       "        6802,  3009, 16518,  4911,  9850, 10342, 21565, 24970,  6910,\n",
       "        6912,  5132, 21986, 16512,  9381, 11042, 24824,  9772, 23067,\n",
       "        9004,  2865, 14768,  5022,  7859, 22973, 18996, 17917,  9412,\n",
       "       20814, 10894, 24722,  3832,  6055, 11062,  4453, 24045, 17375,\n",
       "       13017,  8038,  2746, 12651,  8376, 23990, 21208, 13255,  5926,\n",
       "       18438, 14034,  8343,  9675,  9796, 24147, 18257,  7746,  9342,\n",
       "       13440, 24982, 10532, 20740, 18782, 12388, 10847, 19424, 14241,\n",
       "       20325,  4600, 20784, 24947, 19442, 19008,  9255, 20768, 15050,\n",
       "        9041, 11056,  4244, 10999,  5656, 14663,  8641, 14659, 23984,\n",
       "        3183,  8243, 13570, 10394,  5022, 19047, 23474, 23429, 17639,\n",
       "       11814, 13883, 14439, 12386, 14701, 12106, 24791,  4577, 19195,\n",
       "        9882, 19382,  9051, 21562, 17425, 12153, 14800, 13101, 18517,\n",
       "        8800, 19916, 21404, 11660,  9493,  9553, 10726, 24700, 22076,\n",
       "       12591,  9102,  7292, 22262,  7464,  4776, 14067,  9945, 20668,\n",
       "        3266,  6590, 20902,  8344, 19653,  6962,  8144,  3706, 24133,\n",
       "       23712,  4488, 22767, 17513, 23554,  7978,  9848, 11600, 14324,\n",
       "       23748, 11926, 18053, 13093,  5945, 10366, 21208, 17602,  5204,\n",
       "       11118,  6831, 20970, 23078, 17548, 19344, 24413, 14063, 21387,\n",
       "       14889,  3225, 19153, 16653, 17989, 19063, 19099, 21559,  9385,\n",
       "       13226,  2701,  4819, 23645, 22530, 13044, 21841,  7598, 20399,\n",
       "       18502, 19671,  6745, 21743, 15825, 21265, 24036,  7377,  3682,\n",
       "       19881, 22859, 10192, 15700, 18324,  8062,  8097, 17840,  7478,\n",
       "        4175, 23179,  6109, 16258, 12037,  9341, 23857,  2997, 12769,\n",
       "       19760, 11194, 14018, 21246, 10371,  2512,  4020, 14191, 18095,\n",
       "       24118,  6986, 12754,  9044,  4881, 15797,  4397, 18367,  6106,\n",
       "       17616,  3841, 18032, 17321, 11488, 19503, 20565, 15898,  6992,\n",
       "       15116, 15019,  7016,  3171, 21922, 11321, 16467, 23353,  5312,\n",
       "       16561, 20600, 11063, 17245,  9338, 20571, 11793,  2631, 21031,\n",
       "       14711,  9092, 17082,  4007, 14704,  4256, 14269, 11780, 23626,\n",
       "       15081,  7702,  3086, 13521, 10838, 24811, 17689, 12064, 17379,\n",
       "       22996, 10211, 22452, 19727,  4221, 13821, 21944, 20618, 11574,\n",
       "        5833,  6807,  3131, 20214, 21357, 16518, 10223, 10943,  7321,\n",
       "       19748, 15341, 13348,  6443,  3370,  8212, 18217, 22674,  7889,\n",
       "       13885, 13998, 10327,  5443, 21746,  9628, 24063, 20378, 12448,\n",
       "       15400, 17964, 12092,  5960, 22933,  8256, 13974, 11279, 17617,\n",
       "       19320,  7279, 16728, 18948, 16743,  5977, 19465, 23768,  9971,\n",
       "        6707, 19220, 23228, 15043, 11456, 21971,  4520, 17850, 12643,\n",
       "        4106, 18857, 22630, 17619, 20284, 12254, 16656, 22512, 11567,\n",
       "       24406,  7781,  3797,  7773,  4472, 21423,  6963,  7863, 14042,\n",
       "       14414, 15384, 24440, 15147, 17906, 24754,  6765, 13162, 21874,\n",
       "       14396, 11727, 24283, 14199, 17434, 19732, 21607, 24857,  8292,\n",
       "       23409,  4017, 24732, 14817, 24958,  6701, 16865,  4072, 24954,\n",
       "        8724,  6250,  3262,  4707, 10393, 11948, 18171, 20070, 14555,\n",
       "        5965, 14580, 20522, 18024,  9398, 19918, 16996,  9505, 16537,\n",
       "       22091, 10884, 18120, 18830,  2740, 14572, 17201,  9521, 17692,\n",
       "        7941,  3911, 10447, 12488,  2727, 19365, 14808, 23684, 13914,\n",
       "       13088, 18917, 15846, 18652, 17561, 18979,  3181, 21388, 18313,\n",
       "       12071,  4463, 10395, 14089, 12490,  6894,  3261, 24340, 18397,\n",
       "        4102, 13014,  7476, 10686,  2630, 18053, 23503, 21799, 19784,\n",
       "       23465, 14220,  7135, 16304, 19667, 11083,  3184, 21303,  3520,\n",
       "       13781, 23312,  7851,  5309, 23735, 22393, 22680, 12453,  5296,\n",
       "       14073, 24140, 16807, 19691, 12205, 12507, 10332, 17035,  9546,\n",
       "       23227, 11112,  3833,  7253,  3887, 14208, 17911, 24456, 19659,\n",
       "       13113,  3267, 20942,  8865,  6502, 18163, 14198, 13271, 17797,\n",
       "       11501, 13346, 23471,  7742,  5064, 21375,  5090, 22573,  6605,\n",
       "       17065, 14370, 16958,  3044, 23620,  9645, 13402, 17781, 10712,\n",
       "        7796,  5082,  5125,  7257,  6483, 18442,  9372,  9066, 14768,\n",
       "        7897, 18257, 17582, 19571, 10242,  2874, 21719,  7837, 12864,\n",
       "        2901,  6492, 24634, 20535, 23339, 15003, 11856,  2564, 17525,\n",
       "       10478,  6938, 19968, 14465, 22452,  7345,  6023,  9463, 18621,\n",
       "       12120,  7820,  3905,  8525, 16963, 14582, 15379, 20360, 18968,\n",
       "        7032, 11943, 21999, 22276, 11235,  8318, 24554,  3146,  4114,\n",
       "       12689,  6666, 18456, 19579, 10429, 21418, 12370,  3765, 11160,\n",
       "       13095,  9488, 19565, 15667, 12016, 12780, 20292,  8906, 14735,\n",
       "        3694, 15822, 13086, 20676,  4735,  9352,  3047, 24105, 19978,\n",
       "       19086,  3751, 24795,  6457, 23256, 21912, 23267, 16643,  8148,\n",
       "       20287, 16921, 11206, 14611,  3476,  7500,  6662,  5939, 14141,\n",
       "       11126,  8238, 20363,  9115, 12079,  6115, 17905, 10985, 14481,\n",
       "       18887,  5662, 11064, 18034, 21823,  3769, 24303, 23344, 10298,\n",
       "        5716, 23744, 12018,  4368, 11920, 22672, 22020, 13218,  7375,\n",
       "       19786, 12962,  9284,  5176,  2994, 21465,  9231, 10402, 15211,\n",
       "       22894, 14897, 17774,  3288, 20135,  8772, 21478, 12145,  3649,\n",
       "        5431,  7758, 14854, 15317, 18720,  5308,  5381, 14051, 10382,\n",
       "        6898, 14704, 15380, 14787,  3403, 21139, 11142,  9986, 20290,\n",
       "        3259, 14558,  8116, 15952, 23188, 24788,  5468,  2635, 14638,\n",
       "        8804, 22951, 22930, 24927,  9503, 14129, 22796, 12988, 21703,\n",
       "       24889, 14797,  3023, 11856,  4383, 14820, 19745, 11332, 11195,\n",
       "        4923, 22944, 22347, 11302, 18357, 19052, 14471, 18135, 16001,\n",
       "       15402,  8615, 16316,  7830, 18309,  3856,  9108,  7267,  5047,\n",
       "       21268, 13386,  7637, 24939,  3796, 14937, 19430,  8953, 14775,\n",
       "        6254, 16415, 10514, 20673, 20173,  9381, 10327,  6709, 16477,\n",
       "       23907, 19488, 23573, 22559, 12337, 16983, 10983,  9849,  5403,\n",
       "       15495, 16104,  3951, 13135,  8420, 16421, 20686,  3740, 10642,\n",
       "       21034, 18035, 17054,  4870, 11624, 18508, 24648, 12603, 23457,\n",
       "       22570, 14885, 24497, 24721, 19776,  3638, 17033, 19851, 16540,\n",
       "        4344, 14803,  3285, 10362, 14433, 17238, 11698, 21174,  5556,\n",
       "       19298])"
      ]
     },
     "execution_count": 34,
     "metadata": {},
     "output_type": "execute_result"
    }
   ],
   "source": [
    "x3 = np.random.randint(2500, 25000, 1000)\n",
    "x3"
   ]
  },
  {
   "cell_type": "code",
   "execution_count": 36,
   "metadata": {
    "collapsed": true
   },
   "outputs": [
    {
     "data": {
      "image/png": "[encoded data removed]",
      "text/plain": [
       "<Figure size 432x288 with 1 Axes>"
      ]
     },
     "metadata": {
      "needs_background": "light"
     },
     "output_type": "display_data"
    }
   ],
   "source": [
    "plt.boxplot(x3)\n",
    "plt.show()"
   ]
  },
  {
   "cell_type": "markdown",
   "metadata": {},
   "source": [
    "**Histogram**\n",
    "- Looks similar to barplot\n",
    "- Frequency distribution of numerical data\n",
    "- plt.hist()"
   ]
  },
  {
   "cell_type": "code",
   "execution_count": 38,
   "metadata": {
    "collapsed": true
   },
   "outputs": [
    {
     "data": {
      "text/plain": [
       "(array([7., 3., 3., 3.]),\n",
       " array([0.   , 1.675, 3.35 , 5.025, 6.7  ]),\n",
       " <a list of 4 Patch objects>)"
      ]
     },
     "execution_count": 38,
     "metadata": {},
     "output_type": "execute_result"
    },
    {
     "data": {
      "image/png": "[encoded data removed]",
      "text/plain": [
       "<Figure size 432x288 with 1 Axes>"
      ]
     },
     "metadata": {
      "needs_background": "light"
     },
     "output_type": "display_data"
    }
   ],
   "source": [
    "h = [0, 0.2,0.2,0.4,1.3, 1.4, 1.1,2.2, 2.7, 2.8, 4,4.5,4.6, 6.1,6.1,6.7]\n",
    "bins = 4\n",
    "plt.hist(h, bins, width = 0.5)"
   ]
  },
  {
   "cell_type": "markdown",
   "metadata": {},
   "source": [
    "**Pie Chart**\n",
    "- plt.pie()"
   ]
  },
  {
   "cell_type": "code",
   "execution_count": 47,
   "metadata": {},
   "outputs": [
    {
     "data": {
      "image/png": "[encoded data removed]",
      "text/plain": [
       "<Figure size 432x288 with 1 Axes>"
      ]
     },
     "metadata": {},
     "output_type": "display_data"
    }
   ],
   "source": [
    "games = ['Chess', '2048', 'Ludo', 'PubG', 'TempleRun']\n",
    "users = [80, 50, 55, 100, 24]\n",
    "plt.pie(users, labels = games, autopct = '%.1f%%', \n",
    "        colors= ['purple','c','pink','g'])\n",
    "plt.show()"
   ]
  },
  {
   "cell_type": "code",
   "execution_count": null,
   "metadata": {},
   "outputs": [],
   "source": []
  }
 ],
 "metadata": {
  "kernelspec": {
   "display_name": "Python 3",
   "language": "python",
   "name": "python3"
  },
  "language_info": {
   "codemirror_mode": {
    "name": "ipython",
    "version": 3
   },
   "file_extension": ".py",
   "mimetype": "text/x-python",
   "name": "python",
   "nbconvert_exporter": "python",
   "pygments_lexer": "ipython3",
   "version": "3.7.3"
  }
 },
 "nbformat": 4,
 "nbformat_minor": 2
}
